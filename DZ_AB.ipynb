{
 "cells": [
  {
   "cell_type": "code",
   "execution_count": 336,
   "id": "ce52ce49-4f5f-4dbe-8eba-ea5165dd6068",
   "metadata": {},
   "outputs": [],
   "source": [
    "import pandas as pd\n",
    "import numpy as np\n",
    "import matplotlib.pyplot as plt\n",
    "import seaborn as sns\n",
    "from scipy import stats"
   ]
  },
  {
   "cell_type": "markdown",
   "id": "f4c1e2c4-ab08-46a4-92a0-29f51d3224c2",
   "metadata": {},
   "source": [
    "### Загрузка и подготовка данных"
   ]
  },
  {
   "cell_type": "code",
   "execution_count": 339,
   "id": "6d9a5dd3-7488-462e-aea1-dceb67666813",
   "metadata": {},
   "outputs": [],
   "source": [
    "df = pd.read_csv(r'https://raw.githubusercontent.com/DVL-83/Educational-materials/refs/heads/main/marketing_AB.csv')"
   ]
  },
  {
   "cell_type": "code",
   "execution_count": 340,
   "id": "2670fe2f-b2d4-4c7f-b3d2-46f08d6f5afd",
   "metadata": {},
   "outputs": [
    {
     "data": {
      "text/html": [
       "<div>\n",
       "<style scoped>\n",
       "    .dataframe tbody tr th:only-of-type {\n",
       "        vertical-align: middle;\n",
       "    }\n",
       "\n",
       "    .dataframe tbody tr th {\n",
       "        vertical-align: top;\n",
       "    }\n",
       "\n",
       "    .dataframe thead th {\n",
       "        text-align: right;\n",
       "    }\n",
       "</style>\n",
       "<table border=\"1\" class=\"dataframe\">\n",
       "  <thead>\n",
       "    <tr style=\"text-align: right;\">\n",
       "      <th></th>\n",
       "      <th>Unnamed: 0</th>\n",
       "      <th>user id</th>\n",
       "      <th>test group</th>\n",
       "      <th>converted</th>\n",
       "      <th>total ads</th>\n",
       "      <th>most ads day</th>\n",
       "      <th>most ads hour</th>\n",
       "    </tr>\n",
       "  </thead>\n",
       "  <tbody>\n",
       "    <tr>\n",
       "      <th>0</th>\n",
       "      <td>0</td>\n",
       "      <td>1069124</td>\n",
       "      <td>ad</td>\n",
       "      <td>False</td>\n",
       "      <td>130</td>\n",
       "      <td>Monday</td>\n",
       "      <td>20</td>\n",
       "    </tr>\n",
       "    <tr>\n",
       "      <th>1</th>\n",
       "      <td>1</td>\n",
       "      <td>1119715</td>\n",
       "      <td>ad</td>\n",
       "      <td>False</td>\n",
       "      <td>93</td>\n",
       "      <td>Tuesday</td>\n",
       "      <td>22</td>\n",
       "    </tr>\n",
       "    <tr>\n",
       "      <th>2</th>\n",
       "      <td>2</td>\n",
       "      <td>1144181</td>\n",
       "      <td>ad</td>\n",
       "      <td>False</td>\n",
       "      <td>21</td>\n",
       "      <td>Tuesday</td>\n",
       "      <td>18</td>\n",
       "    </tr>\n",
       "    <tr>\n",
       "      <th>3</th>\n",
       "      <td>3</td>\n",
       "      <td>1435133</td>\n",
       "      <td>ad</td>\n",
       "      <td>False</td>\n",
       "      <td>355</td>\n",
       "      <td>Tuesday</td>\n",
       "      <td>10</td>\n",
       "    </tr>\n",
       "    <tr>\n",
       "      <th>4</th>\n",
       "      <td>4</td>\n",
       "      <td>1015700</td>\n",
       "      <td>ad</td>\n",
       "      <td>False</td>\n",
       "      <td>276</td>\n",
       "      <td>Friday</td>\n",
       "      <td>14</td>\n",
       "    </tr>\n",
       "    <tr>\n",
       "      <th>...</th>\n",
       "      <td>...</td>\n",
       "      <td>...</td>\n",
       "      <td>...</td>\n",
       "      <td>...</td>\n",
       "      <td>...</td>\n",
       "      <td>...</td>\n",
       "      <td>...</td>\n",
       "    </tr>\n",
       "    <tr>\n",
       "      <th>588096</th>\n",
       "      <td>588096</td>\n",
       "      <td>1278437</td>\n",
       "      <td>ad</td>\n",
       "      <td>False</td>\n",
       "      <td>1</td>\n",
       "      <td>Tuesday</td>\n",
       "      <td>23</td>\n",
       "    </tr>\n",
       "    <tr>\n",
       "      <th>588097</th>\n",
       "      <td>588097</td>\n",
       "      <td>1327975</td>\n",
       "      <td>ad</td>\n",
       "      <td>False</td>\n",
       "      <td>1</td>\n",
       "      <td>Tuesday</td>\n",
       "      <td>23</td>\n",
       "    </tr>\n",
       "    <tr>\n",
       "      <th>588098</th>\n",
       "      <td>588098</td>\n",
       "      <td>1038442</td>\n",
       "      <td>ad</td>\n",
       "      <td>False</td>\n",
       "      <td>3</td>\n",
       "      <td>Tuesday</td>\n",
       "      <td>23</td>\n",
       "    </tr>\n",
       "    <tr>\n",
       "      <th>588099</th>\n",
       "      <td>588099</td>\n",
       "      <td>1496395</td>\n",
       "      <td>ad</td>\n",
       "      <td>False</td>\n",
       "      <td>1</td>\n",
       "      <td>Tuesday</td>\n",
       "      <td>23</td>\n",
       "    </tr>\n",
       "    <tr>\n",
       "      <th>588100</th>\n",
       "      <td>588100</td>\n",
       "      <td>1237779</td>\n",
       "      <td>ad</td>\n",
       "      <td>False</td>\n",
       "      <td>1</td>\n",
       "      <td>Tuesday</td>\n",
       "      <td>23</td>\n",
       "    </tr>\n",
       "  </tbody>\n",
       "</table>\n",
       "<p>588101 rows × 7 columns</p>\n",
       "</div>"
      ],
      "text/plain": [
       "        Unnamed: 0  user id test group  converted  total ads most ads day  \\\n",
       "0                0  1069124         ad      False        130       Monday   \n",
       "1                1  1119715         ad      False         93      Tuesday   \n",
       "2                2  1144181         ad      False         21      Tuesday   \n",
       "3                3  1435133         ad      False        355      Tuesday   \n",
       "4                4  1015700         ad      False        276       Friday   \n",
       "...            ...      ...        ...        ...        ...          ...   \n",
       "588096      588096  1278437         ad      False          1      Tuesday   \n",
       "588097      588097  1327975         ad      False          1      Tuesday   \n",
       "588098      588098  1038442         ad      False          3      Tuesday   \n",
       "588099      588099  1496395         ad      False          1      Tuesday   \n",
       "588100      588100  1237779         ad      False          1      Tuesday   \n",
       "\n",
       "        most ads hour  \n",
       "0                  20  \n",
       "1                  22  \n",
       "2                  18  \n",
       "3                  10  \n",
       "4                  14  \n",
       "...               ...  \n",
       "588096             23  \n",
       "588097             23  \n",
       "588098             23  \n",
       "588099             23  \n",
       "588100             23  \n",
       "\n",
       "[588101 rows x 7 columns]"
      ]
     },
     "execution_count": 340,
     "metadata": {},
     "output_type": "execute_result"
    }
   ],
   "source": [
    "df"
   ]
  },
  {
   "cell_type": "markdown",
   "id": "11539969-c4c7-4187-bfae-b91afe5c42d5",
   "metadata": {},
   "source": [
    "##### Проверяем на анличие пропусков"
   ]
  },
  {
   "cell_type": "code",
   "execution_count": 344,
   "id": "a7ab66ca-df81-40b4-870d-3341829c3fee",
   "metadata": {},
   "outputs": [
    {
     "data": {
      "text/plain": [
       "Unnamed: 0       0\n",
       "user id          0\n",
       "test group       0\n",
       "converted        0\n",
       "total ads        0\n",
       "most ads day     0\n",
       "most ads hour    0\n",
       "dtype: int64"
      ]
     },
     "execution_count": 344,
     "metadata": {},
     "output_type": "execute_result"
    }
   ],
   "source": [
    "df.isnull().sum()"
   ]
  },
  {
   "cell_type": "code",
   "execution_count": 346,
   "id": "b73a7362-c53d-4b72-8843-65e310f82ef6",
   "metadata": {},
   "outputs": [],
   "source": [
    "##### Пропусков нет"
   ]
  },
  {
   "cell_type": "markdown",
   "id": "e369d286-3c86-4983-bbb0-84dc51f439e6",
   "metadata": {},
   "source": [
    "##### Что бы понять куда двигаться просмотрим уникальные значения столбцов"
   ]
  },
  {
   "cell_type": "code",
   "execution_count": 349,
   "id": "edb9f74e-2878-44de-ab6d-59c3ef4579ce",
   "metadata": {},
   "outputs": [
    {
     "data": {
      "text/plain": [
       "array(['ad', 'psa'], dtype=object)"
      ]
     },
     "execution_count": 349,
     "metadata": {},
     "output_type": "execute_result"
    }
   ],
   "source": [
    "df['test group'].unique()"
   ]
  },
  {
   "cell_type": "code",
   "execution_count": 351,
   "id": "5729bfa2-cf37-4d86-a41c-e89927b66358",
   "metadata": {},
   "outputs": [],
   "source": [
    "# 2 группы тестируемых (каждой из групп показывали 2 разные рекламы)"
   ]
  },
  {
   "cell_type": "code",
   "execution_count": 353,
   "id": "4a154df4-9949-4e04-ad88-ec3b2587aeb8",
   "metadata": {},
   "outputs": [
    {
     "data": {
      "text/plain": [
       "array([False,  True])"
      ]
     },
     "execution_count": 353,
     "metadata": {},
     "output_type": "execute_result"
    }
   ],
   "source": [
    "df['converted'].unique()"
   ]
  },
  {
   "cell_type": "code",
   "execution_count": 355,
   "id": "fa01b456-faae-4207-8d17-fbfe3bebf41a",
   "metadata": {},
   "outputs": [],
   "source": [
    "# Реклама оказалась эффективной или нет"
   ]
  },
  {
   "cell_type": "code",
   "execution_count": 357,
   "id": "9e22bf23-8326-4aab-bc6a-35b45f068222",
   "metadata": {},
   "outputs": [
    {
     "data": {
      "text/plain": [
       "array(['Monday', 'Tuesday', 'Friday', 'Saturday', 'Wednesday', 'Sunday',\n",
       "       'Thursday'], dtype=object)"
      ]
     },
     "execution_count": 357,
     "metadata": {},
     "output_type": "execute_result"
    }
   ],
   "source": [
    "df['most ads day'].unique()"
   ]
  },
  {
   "cell_type": "code",
   "execution_count": 359,
   "id": "5bb896aa-408c-4299-8472-3b692baab76c",
   "metadata": {},
   "outputs": [],
   "source": [
    "# Популярные рекламные дни"
   ]
  },
  {
   "cell_type": "code",
   "execution_count": 361,
   "id": "17a74c99-c95c-4e82-9f09-3c2634f62391",
   "metadata": {},
   "outputs": [
    {
     "data": {
      "text/plain": [
       "array([20, 22, 18, 10, 14, 13, 19, 11, 12, 16, 21,  3, 23,  4,  8,  0,  2,\n",
       "       15,  1,  6, 17,  7,  9,  5], dtype=int64)"
      ]
     },
     "execution_count": 361,
     "metadata": {},
     "output_type": "execute_result"
    }
   ],
   "source": [
    "df['most ads hour'].unique()"
   ]
  },
  {
   "cell_type": "code",
   "execution_count": 363,
   "id": "a9306397-1a94-4c4d-876d-6fd3b62fc573",
   "metadata": {},
   "outputs": [],
   "source": [
    "# Самое большое рекламное время"
   ]
  },
  {
   "cell_type": "code",
   "execution_count": 365,
   "id": "17f79e48-9bbf-4bab-97d6-253e0d06e035",
   "metadata": {},
   "outputs": [],
   "source": [
   ]
  },
  {
   "cell_type": "code",
   "execution_count": 367,
   "id": "64056561-b7d6-427c-9fee-f2621b94953b",
   "metadata": {},
   "outputs": [
    {
     "data": {
      "text/html": [
       "<div>\n",
       "<style scoped>\n",
       "    .dataframe tbody tr th:only-of-type {\n",
       "        vertical-align: middle;\n",
       "    }\n",
       "\n",
       "    .dataframe tbody tr th {\n",
       "        vertical-align: top;\n",
       "    }\n",
       "\n",
       "    .dataframe thead th {\n",
       "        text-align: right;\n",
       "    }\n",
       "</style>\n",
       "<table border=\"1\" class=\"dataframe\">\n",
       "  <thead>\n",
       "    <tr style=\"text-align: right;\">\n",
       "      <th></th>\n",
       "      <th>Unnamed: 0</th>\n",
       "      <th>user id</th>\n",
       "      <th>test group</th>\n",
       "      <th>converted</th>\n",
       "      <th>total ads</th>\n",
       "      <th>most ads day</th>\n",
       "      <th>most ads hour</th>\n",
       "    </tr>\n",
       "  </thead>\n",
       "  <tbody>\n",
       "    <tr>\n",
       "      <th>0</th>\n",
       "      <td>0</td>\n",
       "      <td>1069124</td>\n",
       "      <td>ad</td>\n",
       "      <td>False</td>\n",
       "      <td>130</td>\n",
       "      <td>Monday</td>\n",
       "      <td>20</td>\n",
       "    </tr>\n",
       "    <tr>\n",
       "      <th>1</th>\n",
       "      <td>1</td>\n",
       "      <td>1119715</td>\n",
       "      <td>ad</td>\n",
       "      <td>False</td>\n",
       "      <td>93</td>\n",
       "      <td>Tuesday</td>\n",
       "      <td>22</td>\n",
       "    </tr>\n",
       "    <tr>\n",
       "      <th>2</th>\n",
       "      <td>2</td>\n",
       "      <td>1144181</td>\n",
       "      <td>ad</td>\n",
       "      <td>False</td>\n",
       "      <td>21</td>\n",
       "      <td>Tuesday</td>\n",
       "      <td>18</td>\n",
       "    </tr>\n",
       "    <tr>\n",
       "      <th>3</th>\n",
       "      <td>3</td>\n",
       "      <td>1435133</td>\n",
       "      <td>ad</td>\n",
       "      <td>False</td>\n",
       "      <td>355</td>\n",
       "      <td>Tuesday</td>\n",
       "      <td>10</td>\n",
       "    </tr>\n",
       "    <tr>\n",
       "      <th>4</th>\n",
       "      <td>4</td>\n",
       "      <td>1015700</td>\n",
       "      <td>ad</td>\n",
       "      <td>False</td>\n",
       "      <td>276</td>\n",
       "      <td>Friday</td>\n",
       "      <td>14</td>\n",
       "    </tr>\n",
       "    <tr>\n",
       "      <th>...</th>\n",
       "      <td>...</td>\n",
       "      <td>...</td>\n",
       "      <td>...</td>\n",
       "      <td>...</td>\n",
       "      <td>...</td>\n",
       "      <td>...</td>\n",
       "      <td>...</td>\n",
       "    </tr>\n",
       "    <tr>\n",
       "      <th>588096</th>\n",
       "      <td>588096</td>\n",
       "      <td>1278437</td>\n",
       "      <td>ad</td>\n",
       "      <td>False</td>\n",
       "      <td>1</td>\n",
       "      <td>Tuesday</td>\n",
       "      <td>23</td>\n",
       "    </tr>\n",
       "    <tr>\n",
       "      <th>588097</th>\n",
       "      <td>588097</td>\n",
       "      <td>1327975</td>\n",
       "      <td>ad</td>\n",
       "      <td>False</td>\n",
       "      <td>1</td>\n",
       "      <td>Tuesday</td>\n",
       "      <td>23</td>\n",
       "    </tr>\n",
       "    <tr>\n",
       "      <th>588098</th>\n",
       "      <td>588098</td>\n",
       "      <td>1038442</td>\n",
       "      <td>ad</td>\n",
       "      <td>False</td>\n",
       "      <td>3</td>\n",
       "      <td>Tuesday</td>\n",
       "      <td>23</td>\n",
       "    </tr>\n",
       "    <tr>\n",
       "      <th>588099</th>\n",
       "      <td>588099</td>\n",
       "      <td>1496395</td>\n",
       "      <td>ad</td>\n",
       "      <td>False</td>\n",
       "      <td>1</td>\n",
       "      <td>Tuesday</td>\n",
       "      <td>23</td>\n",
       "    </tr>\n",
       "    <tr>\n",
       "      <th>588100</th>\n",
       "      <td>588100</td>\n",
       "      <td>1237779</td>\n",
       "      <td>ad</td>\n",
       "      <td>False</td>\n",
       "      <td>1</td>\n",
       "      <td>Tuesday</td>\n",
       "      <td>23</td>\n",
       "    </tr>\n",
       "  </tbody>\n",
       "</table>\n",
       "<p>588101 rows × 7 columns</p>\n",
       "</div>"
      ],
      "text/plain": [
       "        Unnamed: 0  user id test group  converted  total ads most ads day  \\\n",
       "0                0  1069124         ad      False        130       Monday   \n",
       "1                1  1119715         ad      False         93      Tuesday   \n",
       "2                2  1144181         ad      False         21      Tuesday   \n",
       "3                3  1435133         ad      False        355      Tuesday   \n",
       "4                4  1015700         ad      False        276       Friday   \n",
       "...            ...      ...        ...        ...        ...          ...   \n",
       "588096      588096  1278437         ad      False          1      Tuesday   \n",
       "588097      588097  1327975         ad      False          1      Tuesday   \n",
       "588098      588098  1038442         ad      False          3      Tuesday   \n",
       "588099      588099  1496395         ad      False          1      Tuesday   \n",
       "588100      588100  1237779         ad      False          1      Tuesday   \n",
       "\n",
       "        most ads hour  \n",
       "0                  20  \n",
       "1                  22  \n",
       "2                  18  \n",
       "3                  10  \n",
       "4                  14  \n",
       "...               ...  \n",
       "588096             23  \n",
       "588097             23  \n",
       "588098             23  \n",
       "588099             23  \n",
       "588100             23  \n",
       "\n",
       "[588101 rows x 7 columns]"
      ]
     },
     "execution_count": 367,
     "metadata": {},
     "output_type": "execute_result"
    }
   ],
   "source": [
    "df"
   ]
  },
  {
   "cell_type": "markdown",
   "id": "7b5d3aa3-4de1-4ef8-82ba-f89710bb4f91",
   "metadata": {},
   "source": [
    "##### Разделяем на 2 тестируемые группы"
   ]
  },
  {
   "cell_type": "code",
   "execution_count": 370,
   "id": "b2c02f25-42ff-461e-a8a5-4d916897a91a",
   "metadata": {},
   "outputs": [
    {
     "data": {
      "text/plain": [
       "(564577, 7)"
      ]
     },
     "execution_count": 370,
     "metadata": {},
     "output_type": "execute_result"
    }
   ],
   "source": [
    "group_a = df[df['test group'] == 'ad']\n",
    "group_a.shape"
   ]
  },
  {
   "cell_type": "code",
   "execution_count": 372,
   "id": "019bd69a-8f0f-4fd6-9495-7c2cc38c18e8",
   "metadata": {},
   "outputs": [
    {
     "data": {
      "text/plain": [
       "(23524, 7)"
      ]
     },
     "execution_count": 372,
     "metadata": {},
     "output_type": "execute_result"
    }
   ],
   "source": [
    "group_b = df[df['test group'] == 'psa']\n",
    "group_b.shape"
   ]
  },
  {
   "cell_type": "markdown",
   "id": "096ea4c8-80e1-4cdf-9dd7-566290ecd8e1",
   "metadata": {},
   "source": [
    "# 1. Анализ группы клиентов и определение успешности рекламы\n",
    "## Конверсия"
   ]
  },
  {
   "cell_type": "code",
   "execution_count": 375,
   "id": "b0f2b21c-0cc6-4696-90af-b198644937ef",
   "metadata": {},
   "outputs": [
    {
     "name": "stdout",
     "output_type": "stream",
     "text": [
      "Конверсия всего: 0.02523886203220195\n",
      "Конверсия группы А: 0.025546559636683747\n",
      "Конверсия группы Б: 0.01785410644448223\n"
     ]
    }
   ],
   "source": [
    "print('Конверсия всего:', df[df['converted'] == 1].shape[0] / df['converted'].shape[0])\n",
    "print('Конверсия группы А:', group_a[group_a['converted'] == 1].shape[0] / group_a.shape[0])\n",
    "print('Конверсия группы Б:', group_b[group_b['converted'] == 1].shape[0] / group_b.shape[0])"
   ]
  },
  {
   "cell_type": "code",
   "execution_count": 377,
   "id": "9b6c934b-99ab-4053-9c38-0c14b0e8514c",
   "metadata": {},
   "outputs": [],
   "source": [
    "group_aa = group_a[group_a['converted'] == 1]"
   ]
  },
  {
   "cell_type": "code",
   "execution_count": 379,
   "id": "1ff011f3-c11e-4294-a5fb-28e86b5e4d23",
   "metadata": {},
   "outputs": [],
   "source": [
    "group_bb = group_b[group_b['converted'] == 1]"
   ]
  },
  {
   "cell_type": "markdown",
   "id": "8e49261b-9b20-4d2c-b960-bb3318bd4378",
   "metadata": {},
   "source": [
    "## Тест на значимость разницы между группами"
   ]
  },
  {
   "cell_type": "code",
   "execution_count": 382,
   "id": "b0cb8daf-4fcd-45b9-8842-e4e96b3795f2",
   "metadata": {},
   "outputs": [
    {
     "data": {
      "text/plain": [
       "0.025546559636683747"
      ]
     },
     "execution_count": 382,
     "metadata": {},
     "output_type": "execute_result"
    }
   ],
   "source": [
    "group_a['converted'].fillna(0).mean()"
   ]
  },
  {
   "cell_type": "code",
   "execution_count": 384,
   "id": "085c5c0e-ddb9-4ae1-84b4-ddbaaf4ef614",
   "metadata": {},
   "outputs": [
    {
     "data": {
      "text/plain": [
       "0.01785410644448223"
      ]
     },
     "execution_count": 384,
     "metadata": {},
     "output_type": "execute_result"
    }
   ],
   "source": [
    "group_b['converted'].fillna(0).mean()"
   ]
  },
  {
   "cell_type": "code",
   "execution_count": 386,
   "id": "f36add60-e8d1-4b42-a201-00c0d62da1e5",
   "metadata": {},
   "outputs": [
    {
     "data": {
      "text/plain": [
       "TtestResult(statistic=7.37040597428566, pvalue=1.7033052627831264e-13, df=588099.0)"
      ]
     },
     "execution_count": 386,
     "metadata": {},
     "output_type": "execute_result"
    }
   ],
   "source": [
    "stats.ttest_ind(group_a['converted'].fillna(0), group_b['converted'].fillna(0))"
   ]
  },
  {
   "cell_type": "markdown",
   "id": "871b357f-5067-4840-a304-facf00e5274d",
   "metadata": {},
   "source": [
    "Нулевая гипотеза теста - это равенство средней конверсии в обеих группах\n",
    "\n",
    "p-значение - это вероятность увидеть данную выборку при условии, что нулевая гипотеза верна (0,0........17%)\n",
    "\n",
    "Сравниваем р-значение с альфой = 5%\n",
    "\n",
    "р-значение < 5% <= отвергаем нулевую гипотезу\n",
    "\n",
    "Конверсия в группе, которой показывали вариант рекламы А, и в группе, которой показывали вариант рекламы Б, отличаются"
   ]
  },
  {
   "cell_type": "code",
   "execution_count": 389,
   "id": "7c409419-0045-449b-8c30-32ecdb275490",
   "metadata": {},
   "outputs": [
    {
     "name": "stdout",
     "output_type": "stream",
     "text": [
      "Конверсия группы А больше: При рекламе объявлений было больше покупок (группа А) 0.025546559636683747 0.01785410644448223\n"
     ]
    }
   ],
   "source": [
    "# Рассчитываем коэффициент конверсии для группы A и группы B\n",
    "con_a = group_a[group_a['converted'] == 1].shape[0] / group_a.shape[0]\n",
    "con_b = group_b[group_b['converted'] == 1].shape[0] / group_b.shape[0]\n",
    "\n",
    "# Сравниваем конверсии и выводим результат\n",
    "result = np.where(conversion_a > conversion_b, \n",
    "                  'Конверсия группы А больше: При рекламе объявлений было больше покупок (группа А)', \n",
    "                  'Конверсия группы Б больше: При социальной рекламе было больше покупок (группа Б)')\n",
    "\n",
    "print(result,con_a,con_b)"
   ]
  },
  {
   "cell_type": "markdown",
   "id": "f518159b-547c-4d8d-ac79-a4aae33e8c6d",
   "metadata": {},
   "source": [
    "## Реклама объявлений лучше чем социальная реклама."
   ]
  },
  {
   "cell_type": "markdown",
   "id": "46cea059-9967-4a19-960e-fe8a41861419",
   "metadata": {},
   "source": [
    "# 2. Поиск гетерогенных эффектов от рекламы"
   ]
  },
  {
   "cell_type": "code",
   "execution_count": 393,
   "id": "d6dd5d00-07c9-4634-81fc-d18ff702a167",
   "metadata": {},
   "outputs": [
    {
     "data": {
      "image/png": "[encoded data removed]",
      "text/plain": [
       "<Figure size 1500x400 with 2 Axes>"
      ]
     },
     "metadata": {},
     "output_type": "display_data"
    }
   ],
   "source": [
    "fig, ax = plt.subplots(1,2, figsize = (15,4))\n",
    "plt.suptitle('Распределение количества покупок по времени рекламмы')\n",
    "sns.histplot(group_a['most ads day'], ax = ax[0])\n",
    "sns.histplot(group_b['most ads day'], ax = ax[1])\n",
    "ax[0].set_title('Группа А')\n",
    "ax[1].set_title('Группа Б')\n",
    "plt.show()"
   ]
  },
  {
   "cell_type": "code",
   "execution_count": 395,
   "id": "6b021496-73d4-4b43-b57c-74a54095fb5f",
   "metadata": {},
   "outputs": [
    {
     "data": {
      "text/plain": [
       "most ads day\n",
       "Friday       0.022465\n",
       "Monday       0.033241\n",
       "Saturday     0.021307\n",
       "Sunday       0.024620\n",
       "Thursday     0.021637\n",
       "Tuesday      0.030440\n",
       "Wednesday    0.025356\n",
       "Name: converted, dtype: float64"
      ]
     },
     "execution_count": 395,
     "metadata": {},
     "output_type": "execute_result"
    }
   ],
   "source": [
    "group_a.groupby('most ads day')['converted'].mean()"
   ]
  },
  {
   "cell_type": "code",
   "execution_count": 397,
   "id": "c5411660-eca1-4903-9a2d-3f4de7dbfe53",
   "metadata": {},
   "outputs": [
    {
     "data": {
      "text/plain": [
       "most ads day\n",
       "Friday       0.016303\n",
       "Monday       0.022559\n",
       "Saturday     0.013996\n",
       "Sunday       0.020595\n",
       "Thursday     0.020230\n",
       "Tuesday      0.014448\n",
       "Wednesday    0.015759\n",
       "Name: converted, dtype: float64"
      ]
     },
     "execution_count": 397,
     "metadata": {},
     "output_type": "execute_result"
    }
   ],
   "source": [
    "group_b.groupby('most ads day')['converted'].mean()"
   ]
  },
  {
   "cell_type": "markdown",
   "id": "adcbc85b-7a89-492a-ae72-5beee2eddeda",
   "metadata": {},
   "source": [
    "### Проведем тест на значимость эффекта отдельно для дня недели 'Sunday'"
   ]
  },
  {
   "cell_type": "code",
   "execution_count": 400,
   "id": "cdb3f941-93b8-4de8-8708-3a6b0d9e1645",
   "metadata": {},
   "outputs": [
    {
     "data": {
      "text/plain": [
       "TtestResult(statistic=1.4145989240334367, pvalue=0.15718977081077093, df=85389.0)"
      ]
     },
     "execution_count": 400,
     "metadata": {},
     "output_type": "execute_result"
    }
   ],
   "source": [
    "stats.ttest_ind(group_a[group_a['most ads day'] == 'Sunday']['converted'], group_b[group_b['most ads day'] == 'Sunday']['converted'])"
   ]
  },
  {
   "cell_type": "markdown",
   "id": "5254c412-2c08-40ec-88fe-a94f447800be",
   "metadata": {},
   "source": [
    "pvalue=15% - Не отвергаем нулевую гипотезу: Конверсия группы A равна Конверсии группы B"
   ]
  },
  {
   "cell_type": "markdown",
   "id": "2e29b951-f44c-410d-967c-e88129b7285e",
   "metadata": {},
   "source": [
    "### Проведем тест на значимость эффекта отдельно для дня недели 'Monday'"
   ]
  },
  {
   "cell_type": "code",
   "execution_count": 404,
   "id": "8599cc66-04dd-48f0-9a33-3a48d743b39f",
   "metadata": {},
   "outputs": [
    {
     "data": {
      "text/plain": [
       "TtestResult(statistic=3.4767998173189745, pvalue=0.0005076838310420105, df=87071.0)"
      ]
     },
     "execution_count": 404,
     "metadata": {},
     "output_type": "execute_result"
    }
   ],
   "source": [
    "stats.ttest_ind(group_a[group_a['most ads day'] == 'Monday']['converted'], group_b[group_b['most ads day'] == 'Monday']['converted'])"
   ]
  },
  {
   "cell_type": "markdown",
   "id": "27d10c59-6420-4049-87e1-296ad90b9af2",
   "metadata": {},
   "source": [
    "pvalue=0,05% - Отвергаем нулевую гипотезу: Конверсия группы A не равна Конверсии группы B"
   ]
  },
  {
   "cell_type": "code",
   "execution_count": 407,
   "id": "11d663c0-ee7e-448f-b896-d083b56c7dc0",
   "metadata": {},
   "outputs": [
    {
     "name": "stdout",
     "output_type": "stream",
     "text": [
      "Конверсия группы А больше: При рекламе объявлений было больше покупок (группа А) 0.033241196108697996 0.022558537978298116\n"
     ]
    }
   ],
   "source": [
    "# Рассчитываем коэффициент конверсии для группы A и группы B\n",
    "con_a = group_aa[group_aa['most ads day'] == 'Monday'].shape[0] /group_a[group_a['most ads day'] == 'Monday'].shape[0]\n",
    "con_b = group_bb[group_bb['most ads day'] == 'Monday'].shape[0] /group_b[group_b['most ads day'] == 'Monday'].shape[0]\n",
    "\n",
    "# Сравниваем конверсии и выводим результат\n",
    "result = np.where(con_a > con_b, \n",
    "                  'Конверсия группы А больше: При рекламе объявлений было больше покупок (группа А)', \n",
    "                  'Конверсия группы Б больше: При социальной рекламе было больше покупок (группа Б)')\n",
    "\n",
    "print(result,con_a,con_b)"
   ]
  },
  {
   "cell_type": "markdown",
   "id": "a85b4315-68c7-4a57-afb6-8a04b12a8b30",
   "metadata": {},
   "source": [
    "### Проведем тест на значимость эффекта отдельно для дня недели 'Tuesday'"
   ]
  },
  {
   "cell_type": "code",
   "execution_count": 410,
   "id": "19b33308-0861-4439-a516-aa07edf0a74e",
   "metadata": {},
   "outputs": [
    {
     "data": {
      "text/plain": [
       "TtestResult(statistic=4.9725001795688915, pvalue=6.623580376546489e-07, df=77477.0)"
      ]
     },
     "execution_count": 410,
     "metadata": {},
     "output_type": "execute_result"
    }
   ],
   "source": [
    "stats.ttest_ind(group_a[group_a['most ads day'] == 'Tuesday']['converted'], group_b[group_b['most ads day'] == 'Tuesday']['converted'])"
   ]
  },
  {
   "cell_type": "markdown",
   "id": "bc4d6731-22a6-43a0-8d12-d4ff3f051a01",
   "metadata": {},
   "source": [
    "pvalue=0.....6% - Отвергаем нулевую гипотезу: Конверсия группы A равна Конверсии группы B"
   ]
  },
  {
   "cell_type": "code",
   "execution_count": 436,
   "id": "a6ef64de-4437-4e5e-883e-c49737ef26a2",
   "metadata": {},
   "outputs": [
    {
     "name": "stdout",
     "output_type": "stream",
     "text": [
      "Конверсия группы А больше: При рекламе объявлений было больше покупок (группа А) 0.03044037976720485 0.014447884416924664\n"
     ]
    }
   ],
   "source": [
    "# Рассчитываем коэффициент конверсии для группы A и группы B\n",
    "con_a = group_aa[group_aa['most ads day'] == 'Tuesday'].shape[0] /group_a[group_a['most ads day'] == 'Tuesday'].shape[0]\n",
    "con_b = group_bb[group_bb['most ads day'] == 'Tuesday'].shape[0] /group_b[group_b['most ads day'] == 'Tuesday'].shape[0]\n",
    "\n",
    "# Сравниваем конверсии и выводим результат\n",
    "result = np.where(con_a > con_b, \n",
    "                  'Конверсия группы А больше: При рекламе объявлений было больше покупок (группа А)', \n",
    "                  'Конверсия группы Б больше: При социальной рекламе было больше покупок (группа Б)')\n",
    "\n",
    "print(result,con_a,con_b)"
   ]
  },
  {
   "cell_type": "markdown",
   "id": "cf4bb337-de10-4071-8eca-a7b7b389da8b",
   "metadata": {},
   "source": [
    "### Проведем тест на значимость эффекта отдельно для дня недели 'Wednesday'"
   ]
  },
  {
   "cell_type": "code",
   "execution_count": 414,
   "id": "68b4fa08-6d7d-4e23-9156-82446a36bebb",
   "metadata": {},
   "outputs": [
    {
     "data": {
      "text/plain": [
       "TtestResult(statistic=3.556325296980843, pvalue=0.00037629299081835306, df=80906.0)"
      ]
     },
     "execution_count": 414,
     "metadata": {},
     "output_type": "execute_result"
    }
   ],
   "source": [
    "stats.ttest_ind(group_a[group_a['most ads day'] == 'Wednesday']['converted'], group_b[group_b['most ads day'] == 'Wednesday']['converted'])"
   ]
  },
  {
   "cell_type": "markdown",
   "id": "7ed4ee9c-88ae-4b0e-895b-7a8d796727b7",
   "metadata": {},
   "source": [
    "pvalue=0.3% - Отвергаем нулевую гипотезу: Конверсия группы A не равна Конверсии группы B"
   ]
  },
  {
   "cell_type": "code",
   "execution_count": 417,
   "id": "0c467473-a19d-47ef-bbcb-3f3a8f2a2b3e",
   "metadata": {},
   "outputs": [
    {
     "name": "stdout",
     "output_type": "stream",
     "text": [
      "Конверсия группы А больше: При рекламе объявлений было больше покупок (группа А) 0.025355860394223564 0.015759312320916905\n"
     ]
    }
   ],
   "source": [
    "# Рассчитываем коэффициент конверсии для группы A и группы B\n",
    "con_a = group_aa[group_aa['most ads day'] == 'Wednesday'].shape[0] /group_a[group_a['most ads day'] == 'Wednesday'].shape[0]\n",
    "con_b = group_bb[group_bb['most ads day'] == 'Wednesday'].shape[0] /group_b[group_b['most ads day'] == 'Wednesday'].shape[0]\n",
    "\n",
    "# Сравниваем конверсии и выводим результат\n",
    "result = np.where(con_a > con_b, \n",
    "                  'Конверсия группы А больше: При рекламе объявлений было больше покупок (группа А)', \n",
    "                  'Конверсия группы Б больше: При социальной рекламе было больше покупок (группа Б)')\n",
    "\n",
    "print(result,con_a,con_b)"
   ]
  },
  {
   "cell_type": "markdown",
   "id": "7a99e79f-8471-473f-b25e-850b29cfb473",
   "metadata": {},
   "source": [
    "### Проведем тест на значимость эффекта отдельно для дня недели 'Thursday'"
   ]
  },
  {
   "cell_type": "code",
   "execution_count": 420,
   "id": "aa1e09af-d998-4339-bc53-68043dc91a83",
   "metadata": {},
   "outputs": [
    {
     "data": {
      "text/plain": [
       "TtestResult(statistic=0.5906506740406489, pvalue=0.5547561128146212, df=82980.0)"
      ]
     },
     "execution_count": 420,
     "metadata": {},
     "output_type": "execute_result"
    }
   ],
   "source": [
    "stats.ttest_ind(group_a[group_a['most ads day'] == 'Thursday']['converted'], group_b[group_b['most ads day'] == 'Thursday']['converted'])"
   ]
  },
  {
   "cell_type": "markdown",
   "id": "bf37f2e1-361a-4b83-adba-b7eb00d5f9df",
   "metadata": {},
   "source": [
    "pvalue=55,4% - Не отвергаем нулевую гипотезу: Конверсия группы A равна Конверсии группы B"
   ]
  },
  {
   "cell_type": "markdown",
   "id": "d30df981-b399-44d6-81a5-efdfcfeaee8d",
   "metadata": {},
   "source": [
    "### Проведем тест на значимость эффекта отдельно для дня недели 'Friday'"
   ]
  },
  {
   "cell_type": "code",
   "execution_count": 424,
   "id": "747aebbe-5790-460a-a9b6-c33a8a626868",
   "metadata": {},
   "outputs": [
    {
     "data": {
      "text/plain": [
       "TtestResult(statistic=2.5250884891161647, pvalue=0.011568571026075112, df=92606.0)"
      ]
     },
     "execution_count": 424,
     "metadata": {},
     "output_type": "execute_result"
    }
   ],
   "source": [
    "stats.ttest_ind(group_a[group_a['most ads day'] == 'Friday']['converted'], group_b[group_b['most ads day'] == 'Friday']['converted'])"
   ]
  },
  {
   "cell_type": "markdown",
   "id": "60b60b37-efcb-49c4-878e-7c41ff8d29cd",
   "metadata": {},
   "source": [
    "pvalue=1.1% - Отвергаем нулевую гипотезу: Конверсия группы A не равна Конверсии группы B"
   ]
  },
  {
   "cell_type": "code",
   "execution_count": 427,
   "id": "64b5f5fc-d9c4-495a-9e7e-4d75b31ec3a4",
   "metadata": {},
   "outputs": [
    {
     "name": "stdout",
     "output_type": "stream",
     "text": [
      "Конверсия группы А больше: При рекламе объявлений было больше покупок (группа А) 0.022464951297787288 0.01630291874835656\n"
     ]
    }
   ],
   "source": [
    "# Рассчитываем коэффициент конверсии для группы A и группы B\n",
    "con_a = group_aa[group_aa['most ads day'] == 'Friday'].shape[0] /group_a[group_a['most ads day'] == 'Friday'].shape[0]\n",
    "con_b = group_bb[group_bb['most ads day'] == 'Friday'].shape[0] /group_b[group_b['most ads day'] == 'Friday'].shape[0]\n",
    "\n",
    "# Сравниваем конверсии и выводим результат\n",
    "result = np.where(con_a > con_b, \n",
    "                  'Конверсия группы А больше: При рекламе объявлений было больше покупок (группа А)', \n",
    "                  'Конверсия группы Б больше: При социальной рекламе было больше покупок (группа Б)')\n",
    "\n",
    "print(result,con_a,con_b)"
   ]
  },
  {
   "cell_type": "markdown",
   "id": "febf03b9-97b6-430b-8a9c-355a9a6e7701",
   "metadata": {},
   "source": [
    "### Проведем тест на значимость эффекта отдельно для дня недели 'Saturday'"
   ]
  },
  {
   "cell_type": "code",
   "execution_count": 430,
   "id": "eb078e71-44fc-4756-8b97-36a5900572c8",
   "metadata": {},
   "outputs": [
    {
     "data": {
      "text/plain": [
       "TtestResult(statistic=2.6745960256483388, pvalue=0.007483424454519301, df=81658.0)"
      ]
     },
     "execution_count": 430,
     "metadata": {},
     "output_type": "execute_result"
    }
   ],
   "source": [
    "stats.ttest_ind(group_a[group_a['most ads day'] == 'Saturday']['converted'], group_b[group_b['most ads day'] == 'Saturday']['converted'])"
   ]
  },
  {
   "cell_type": "markdown",
   "id": "ec0e2303-3c4a-4abd-b437-2d92b5aa3172",
   "metadata": {},
   "source": [
    "pvalue=0.7% - Отвергаем нулевую гипотезу: Конверсия группы A не равна Конверсии группы B"
   ]
  },
  {
   "cell_type": "code",
   "execution_count": 433,
   "id": "390913df-e4d5-4351-bfd0-f615fcf8e638",
   "metadata": {},
   "outputs": [
    {
     "name": "stdout",
     "output_type": "stream",
     "text": [
      "Конверсия группы А больше: При рекламе объявлений было больше покупок (группа А) 0.021306565823202457 0.013995801259622114\n"
     ]
    }
   ],
   "source": [
    "# Рассчитываем коэффициент конверсии для группы A и группы B\n",
    "con_a = group_aa[group_aa['most ads day'] == 'Saturday'].shape[0] /group_a[group_a['most ads day'] == 'Saturday'].shape[0]\n",
    "con_b = group_bb[group_bb['most ads day'] == 'Saturday'].shape[0] /group_b[group_b['most ads day'] == 'Saturday'].shape[0]\n",
    "\n",
    "# Сравниваем конверсии и выводим результат\n",
    "result = np.where(con_a > con_b, \n",
    "                  'Конверсия группы А больше: При рекламе объявлений было больше покупок (группа А)', \n",
    "                  'Конверсия группы Б больше: При социальной рекламе было больше покупок (группа Б)')\n",
    "\n",
    "print(result,con_a,con_b)"
   ]
  },
  {
   "cell_type": "markdown",
   "id": "8dd21b01-787c-4f54-ac8d-214aaad26756",
   "metadata": {},
   "source": [
    "# Таким образом получаем, что эффект от показа рекламы объявлений выше чем от социальной рекламы кроме таких дней как воскресенье и четверг."
   ]
  }
 ],
 "metadata": {
  "kernelspec": {
   "display_name": "Python 3 (ipykernel)",
   "language": "python",
   "name": "python3"
  },
  "language_info": {
   "codemirror_mode": {
    "name": "ipython",
    "version": 3
   },
   "file_extension": ".py",
   "mimetype": "text/x-python",
   "name": "python",
   "nbconvert_exporter": "python",
   "pygments_lexer": "ipython3",
   "version": "3.12.4"
  }
 },
 "nbformat": 4,
 "nbformat_minor": 5
}
